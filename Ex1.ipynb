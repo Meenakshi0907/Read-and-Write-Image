{
 "cells": [
  {
   "cell_type": "code",
   "execution_count": 5,
   "id": "5f29d8fd",
   "metadata": {},
   "outputs": [
    {
     "data": {
      "text/plain": [
       "-1"
      ]
     },
     "execution_count": 5,
     "metadata": {},
     "output_type": "execute_result"
    }
   ],
   "source": [
    "#To Read,display the image\n",
    "import cv2\n",
    "img=cv2.imread(\"img.jpg\",1)\n",
    "cv2.imshow('212221230057 Meenakshi M',img)\n",
    "cv2.waitKey(0)"
   ]
  },
  {
   "cell_type": "code",
   "execution_count": 6,
   "id": "efabd8fd",
   "metadata": {},
   "outputs": [
    {
     "data": {
      "text/plain": [
       "-1"
      ]
     },
     "execution_count": 6,
     "metadata": {},
     "output_type": "execute_result"
    }
   ],
   "source": [
    "# To write the image\n",
    "import cv2 as cv\n",
    "capture=cv.imread(\"img.jpg\")\n",
    "cv.imwrite(\"img.jpg\",capture)\n",
    "cv.imshow(\"212221230057 Meenakshi\",capture)\n",
    "cv.waitKey(0)"
   ]
  },
  {
   "cell_type": "code",
   "execution_count": 10,
   "id": "a7486e97",
   "metadata": {},
   "outputs": [
    {
     "name": "stdout",
     "output_type": "stream",
     "text": [
      "(736, 736, 3)\n"
     ]
    }
   ],
   "source": [
    "#Find the shape of the Image\n",
    "import cv2\n",
    "img=cv2.imread(\"img.jpg\",1)\n",
    "print(img.shape)"
   ]
  },
  {
   "cell_type": "code",
   "execution_count": 11,
   "id": "81f40e2d",
   "metadata": {},
   "outputs": [
    {
     "data": {
      "text/plain": [
       "-1"
      ]
     },
     "execution_count": 11,
     "metadata": {},
     "output_type": "execute_result"
    }
   ],
   "source": [
    "# To access rows and columns\n",
    "import random\n",
    "import cv2 as cv\n",
    "capture=cv.imread(\"img.jpg\")\n",
    "for i in range(100):\n",
    "    for j in range(capture.shape[1]):\n",
    "        capture[i][j]=[random.randint(0,255),random.randint(0,255),random.randint(0,255)]\n",
    "cv.imshow(\"212221230057 Meenakshi\",capture)\n",
    "cv.waitKey(0)"
   ]
  },
  {
   "cell_type": "code",
   "execution_count": 6,
   "id": "ec76ca7e",
   "metadata": {},
   "outputs": [
    {
     "data": {
      "text/plain": [
       "-1"
      ]
     },
     "execution_count": 6,
     "metadata": {},
     "output_type": "execute_result"
    }
   ],
   "source": [
    "#To cut and paste portion of image\n",
    "import cv2\n",
    "capture=cv2.imread(\"img.jpg\",1)\n",
    "tag=capture[260:280,100:300]\n",
    "capture[60:80,100:300]=tag\n",
    "cv2.imshow(\"212221230057 Meenakshi\",capture)\n",
    "cv2.waitKey(0)"
   ]
  }
 ],
 "metadata": {
  "kernelspec": {
   "display_name": "Python 3 (ipykernel)",
   "language": "python",
   "name": "python3"
  },
  "language_info": {
   "codemirror_mode": {
    "name": "ipython",
    "version": 3
   },
   "file_extension": ".py",
   "mimetype": "text/x-python",
   "name": "python",
   "nbconvert_exporter": "python",
   "pygments_lexer": "ipython3",
   "version": "3.9.7"
  }
 },
 "nbformat": 4,
 "nbformat_minor": 5
}
